{
  "nbformat": 4,
  "nbformat_minor": 0,
  "metadata": {
    "colab": {
      "provenance": [],
      "authorship_tag": "ABX9TyNjAIyUSrlX7hqsKc+z04EV",
      "include_colab_link": true
    },
    "kernelspec": {
      "name": "python3",
      "display_name": "Python 3"
    },
    "language_info": {
      "name": "python"
    }
  },
  "cells": [
    {
      "cell_type": "markdown",
      "metadata": {
        "id": "view-in-github",
        "colab_type": "text"
      },
      "source": [
        "<a href=\"https://colab.research.google.com/github/Sanjit3042/Scrapegraph-ai/blob/main/Sanjit_8126934226.ipynb\" target=\"_parent\"><img src=\"https://colab.research.google.com/assets/colab-badge.svg\" alt=\"Open In Colab\"/></a>"
      ]
    },
    {
      "cell_type": "code",
      "execution_count": 1,
      "metadata": {
        "colab": {
          "base_uri": "https://localhost:8080/"
        },
        "id": "pFXsBOLeXWXP",
        "outputId": "51adb80b-87e4-4dca-d0ea-16ded77740db"
      },
      "outputs": [
        {
          "output_type": "stream",
          "name": "stdout",
          "text": [
            "Requirement already satisfied: facebook-sdk in /usr/local/lib/python3.10/dist-packages (3.1.0)\n",
            "Requirement already satisfied: requests in /usr/local/lib/python3.10/dist-packages (from facebook-sdk) (2.31.0)\n",
            "Requirement already satisfied: charset-normalizer<4,>=2 in /usr/local/lib/python3.10/dist-packages (from requests->facebook-sdk) (3.3.2)\n",
            "Requirement already satisfied: idna<4,>=2.5 in /usr/local/lib/python3.10/dist-packages (from requests->facebook-sdk) (3.7)\n",
            "Requirement already satisfied: urllib3<3,>=1.21.1 in /usr/local/lib/python3.10/dist-packages (from requests->facebook-sdk) (2.0.7)\n",
            "Requirement already satisfied: certifi>=2017.4.17 in /usr/local/lib/python3.10/dist-packages (from requests->facebook-sdk) (2024.2.2)\n"
          ]
        }
      ],
      "source": [
        "pip install facebook-sdk\n"
      ]
    },
    {
      "cell_type": "code",
      "source": [
        "import facebook\n",
        "import requests\n",
        "\n",
        "# Initialize Facebook Graph API\n",
        "access_token = 'EAA1fHBkCAwMBOwKJV5itmSgEn7YpgkVaIhf8qd9fdkGtDaoWfmZCIrvnQZBlOkJ5bvVN7hVPn4lv3MAWH5MS3d7LPyXGEguYSa7QoCkmJaJg1ZBBJbILxNDZCbVwhZCFCsenQ8LKZBbZCW55qCQieYkWo4wlZCbgKIjSo0oZCdflkhC0OIfk5L3ShbirX3t2RosqiFGpRCGcK8NtxTUT3wbsXb6ZCEQwBfxqQNXizntmRfSFYPP5n23MHFMdGGriVKjGHCFAZDZD'\n",
        "graph = facebook.GraphAPI(access_token)\n",
        "\n",
        "# Define the Facebook Group ID\n",
        "group_id = 'https://www.facebook.com/groups/MumRealEstate'\n",
        "\n",
        "def get_group_posts(group_id, access_token, since_date, until_date):\n",
        "    base_url = f\"https://graph.facebook.com/v12.0/{group_id}/feed\"\n",
        "    params = {\n",
        "        'access_token': access_token,\n",
        "        'since': since_date,\n",
        "        'until': until_date,\n",
        "        'limit': 100  # Adjust the limit based on your needs\n",
        "    }\n",
        "    response = requests.get(base_url, params=params)\n",
        "    return response.json()\n",
        "\n",
        "# Define the date range for the last 3 months\n",
        "from datetime import datetime, timedelta\n",
        "\n",
        "end_date = datetime.now()\n",
        "start_date = end_date - timedelta(days=90)\n",
        "\n",
        "# Fetch posts from the group\n",
        "data = get_group_posts(group_id, access_token, start_date.isoformat(), end_date.isoformat())\n",
        "\n",
        "# Example: Print the fetched data\n",
        "for post in data.get('data', []):\n",
        "    print(post)\n"
      ],
      "metadata": {
        "id": "8_byDG7iXrtK"
      },
      "execution_count": 2,
      "outputs": []
    },
    {
      "cell_type": "code",
      "source": [
        "import json\n",
        "\n",
        "def parse_facebook_data(facebook_data):\n",
        "    parsed_data = []\n",
        "    for post in facebook_data.get('data', []):\n",
        "        post_id = post.get('id')\n",
        "        message = post.get('message', '')\n",
        "        created_time = post.get('created_time')\n",
        "        parsed_data.append({\n",
        "            'post_id': post_id,\n",
        "            'message': message,\n",
        "            'created_time': created_time\n",
        "        })\n",
        "    return parsed_data\n",
        "\n",
        "parsed_data = parse_facebook_data(data)\n",
        "\n",
        "# Save the parsed data to a JSON file for further use\n",
        "with open('facebook_group_data.json', 'w') as f:\n",
        "    json.dump(parsed_data, f, indent=4)\n",
        "\n",
        "print(parsed_data)\n"
      ],
      "metadata": {
        "colab": {
          "base_uri": "https://localhost:8080/"
        },
        "id": "YbuLRnnQX-cX",
        "outputId": "ab90f95e-b8a8-4f95-af5b-d52784680b9b"
      },
      "execution_count": 3,
      "outputs": [
        {
          "output_type": "stream",
          "name": "stdout",
          "text": [
            "[]\n"
          ]
        }
      ]
    },
    {
      "cell_type": "code",
      "source": [
        "def get_all_group_posts(group_id, access_token, since_date, until_date):\n",
        "    base_url = f\"https://graph.facebook.com/v12.0/{group_id}/feed\"\n",
        "    params = {\n",
        "        'access_token': access_token,\n",
        "        'since': since_date,\n",
        "        'until': until_date,\n",
        "        'limit': 100\n",
        "    }\n",
        "    all_posts = []\n",
        "    while True:\n",
        "        response = requests.get(base_url, params=params)\n",
        "        data = response.json()\n",
        "        all_posts.extend(data.get('data', []))\n",
        "        next_page = data.get('paging', {}).get('next')\n",
        "        if not next_page:\n",
        "            break\n",
        "        base_url = next_page\n",
        "    return all_posts\n",
        "\n",
        "all_data = get_all_group_posts(group_id, access_token, start_date.isoformat(), end_date.isoformat())\n",
        "\n",
        "parsed_data = parse_facebook_data({'data': all_data})\n",
        "\n",
        "# Save the parsed data to a JSON file for further use\n",
        "with open('facebook_group_data.json', 'w') as f:\n",
        "    json.dump(parsed_data, f, indent=4)\n",
        "\n",
        "print(parsed_data)\n"
      ],
      "metadata": {
        "colab": {
          "base_uri": "https://localhost:8080/"
        },
        "id": "75tk5UCGYNC3",
        "outputId": "86d546ed-6354-4f53-c092-f51a3c70d151"
      },
      "execution_count": 4,
      "outputs": [
        {
          "output_type": "stream",
          "name": "stdout",
          "text": [
            "[]\n"
          ]
        }
      ]
    },
    {
      "cell_type": "code",
      "source": [
        "pip install neo4j\n"
      ],
      "metadata": {
        "colab": {
          "base_uri": "https://localhost:8080/"
        },
        "id": "_rUKnB9OYntk",
        "outputId": "08b8be4a-563c-4fdd-d8f9-fb367e8fc34f"
      },
      "execution_count": 5,
      "outputs": [
        {
          "output_type": "stream",
          "name": "stdout",
          "text": [
            "Requirement already satisfied: neo4j in /usr/local/lib/python3.10/dist-packages (5.20.0)\n",
            "Requirement already satisfied: pytz in /usr/local/lib/python3.10/dist-packages (from neo4j) (2023.4)\n"
          ]
        }
      ]
    },
    {
      "cell_type": "code",
      "source": [
        "from neo4j import GraphDatabase\n",
        "\n",
        "class RealEstateGraphDB:\n",
        "    def __init__(self, uri, user, password):\n",
        "        self.driver = GraphDatabase.driver(uri, auth=(user, password))\n",
        "\n",
        "    def close(self):\n",
        "        self.driver.close()\n",
        "\n",
        "    def create_post(self, post_id, message, created_time):\n",
        "        with self.driver.session() as session:\n",
        "            session.write_transaction(self._create_post, post_id, message, created_time)\n",
        "\n",
        "    @staticmethod\n",
        "    def _create_post(tx, post_id, message, created_time):\n",
        "        query = (\n",
        "            \"CREATE (p:Post {post_id: $post_id, message: $message, created_time: $created_time})\"\n",
        "        )\n",
        "        tx.run(query, post_id=post_id, message=message, created_time=created_time)\n",
        "\n",
        "# Connect to the Neo4j database\n",
        "db = RealEstateGraphDB('neo4j+s://b0ea75e7.databases.neo4j.io', 'neo4j', '_tTAwYdD3-E9y_xUdo-n0j48G2pVnZg5zJ9IfgMVIcg')\n",
        "\n",
        "# Example post data (replace with actual parsed data)\n",
        "parsed_data = [\n",
        "    {'post_id': 'post_1', 'message': 'Looking for a 2BHK in Andheri', 'created_time': '2024-03-01T12:34:56'},\n",
        "    {'post_id': 'post_2', 'message': 'Selling a 3BHK in Bandra', 'created_time': '2024-03-02T14:22:33'}\n",
        "]\n",
        "\n",
        "# Store data in Neo4j\n",
        "for post in parsed_data:\n",
        "    db.create_post(post['post_id'], post['message'], post['created_time'])\n",
        "\n",
        "db.close()\n"
      ],
      "metadata": {
        "colab": {
          "base_uri": "https://localhost:8080/"
        },
        "id": "R7j-bL32YoWv",
        "outputId": "5bbcbb29-4050-42de-de25-c01e82edf9c5"
      },
      "execution_count": 6,
      "outputs": [
        {
          "output_type": "stream",
          "name": "stderr",
          "text": [
            "<ipython-input-6-ca9738bdba94>:12: DeprecationWarning: write_transaction has been renamed to execute_write\n",
            "  session.write_transaction(self._create_post, post_id, message, created_time)\n"
          ]
        }
      ]
    },
    {
      "cell_type": "code",
      "source": [
        "!pip install transformers\n"
      ],
      "metadata": {
        "colab": {
          "base_uri": "https://localhost:8080/"
        },
        "id": "Qn36_srwZsfi",
        "outputId": "d76068bd-0d8d-4bb1-b006-6e4ae7f46e03"
      },
      "execution_count": 7,
      "outputs": [
        {
          "output_type": "stream",
          "name": "stdout",
          "text": [
            "Requirement already satisfied: transformers in /usr/local/lib/python3.10/dist-packages (4.41.0)\n",
            "Requirement already satisfied: filelock in /usr/local/lib/python3.10/dist-packages (from transformers) (3.14.0)\n",
            "Requirement already satisfied: huggingface-hub<1.0,>=0.23.0 in /usr/local/lib/python3.10/dist-packages (from transformers) (0.23.1)\n",
            "Requirement already satisfied: numpy>=1.17 in /usr/local/lib/python3.10/dist-packages (from transformers) (1.25.2)\n",
            "Requirement already satisfied: packaging>=20.0 in /usr/local/lib/python3.10/dist-packages (from transformers) (24.0)\n",
            "Requirement already satisfied: pyyaml>=5.1 in /usr/local/lib/python3.10/dist-packages (from transformers) (6.0.1)\n",
            "Requirement already satisfied: regex!=2019.12.17 in /usr/local/lib/python3.10/dist-packages (from transformers) (2023.12.25)\n",
            "Requirement already satisfied: requests in /usr/local/lib/python3.10/dist-packages (from transformers) (2.31.0)\n",
            "Requirement already satisfied: tokenizers<0.20,>=0.19 in /usr/local/lib/python3.10/dist-packages (from transformers) (0.19.1)\n",
            "Requirement already satisfied: safetensors>=0.4.1 in /usr/local/lib/python3.10/dist-packages (from transformers) (0.4.3)\n",
            "Requirement already satisfied: tqdm>=4.27 in /usr/local/lib/python3.10/dist-packages (from transformers) (4.66.4)\n",
            "Requirement already satisfied: fsspec>=2023.5.0 in /usr/local/lib/python3.10/dist-packages (from huggingface-hub<1.0,>=0.23.0->transformers) (2023.6.0)\n",
            "Requirement already satisfied: typing-extensions>=3.7.4.3 in /usr/local/lib/python3.10/dist-packages (from huggingface-hub<1.0,>=0.23.0->transformers) (4.11.0)\n",
            "Requirement already satisfied: charset-normalizer<4,>=2 in /usr/local/lib/python3.10/dist-packages (from requests->transformers) (3.3.2)\n",
            "Requirement already satisfied: idna<4,>=2.5 in /usr/local/lib/python3.10/dist-packages (from requests->transformers) (3.7)\n",
            "Requirement already satisfied: urllib3<3,>=1.21.1 in /usr/local/lib/python3.10/dist-packages (from requests->transformers) (2.0.7)\n",
            "Requirement already satisfied: certifi>=2017.4.17 in /usr/local/lib/python3.10/dist-packages (from requests->transformers) (2024.2.2)\n"
          ]
        }
      ]
    },
    {
      "cell_type": "code",
      "source": [
        "from transformers import GPT2LMHeadModel, GPT2Tokenizer\n",
        "\n",
        "tokenizer = GPT2Tokenizer.from_pretrained(\"gpt2\")\n",
        "model = GPT2LMHeadModel.from_pretrained(\"gpt2\")\n"
      ],
      "metadata": {
        "colab": {
          "base_uri": "https://localhost:8080/"
        },
        "id": "PEv0njbXfL8L",
        "outputId": "8aa2d64b-608d-4ad1-9d0d-cf16a88d0b43"
      },
      "execution_count": 8,
      "outputs": [
        {
          "output_type": "stream",
          "name": "stderr",
          "text": [
            "/usr/local/lib/python3.10/dist-packages/huggingface_hub/utils/_token.py:89: UserWarning: \n",
            "The secret `HF_TOKEN` does not exist in your Colab secrets.\n",
            "To authenticate with the Hugging Face Hub, create a token in your settings tab (https://huggingface.co/settings/tokens), set it as secret in your Google Colab and restart your session.\n",
            "You will be able to reuse this secret in all of your notebooks.\n",
            "Please note that authentication is recommended but still optional to access public models or datasets.\n",
            "  warnings.warn(\n"
          ]
        }
      ]
    },
    {
      "cell_type": "code",
      "source": [
        "!pip install neo4j\n",
        "from neo4j import GraphDatabase\n",
        "\n",
        "uri = \"neo4j+s://b0ea75e7.databases.neo4j.io\"\n",
        "driver = GraphDatabase.driver(uri, auth=(\"neo4j\", \"_tTAwYdD3-E9y_xUdo-n0j48G2pVnZg5zJ9IfgMVIcgpassword\"))\n",
        "\n"
      ],
      "metadata": {
        "colab": {
          "base_uri": "https://localhost:8080/"
        },
        "id": "UvHF4ioUfXL2",
        "outputId": "bf098ae8-2b9a-4fe8-c720-e3d01cc69278"
      },
      "execution_count": 9,
      "outputs": [
        {
          "output_type": "stream",
          "name": "stdout",
          "text": [
            "Requirement already satisfied: neo4j in /usr/local/lib/python3.10/dist-packages (5.20.0)\n",
            "Requirement already satisfied: pytz in /usr/local/lib/python3.10/dist-packages (from neo4j) (2023.4)\n"
          ]
        }
      ]
    },
    {
      "cell_type": "code",
      "source": [
        "!pip install python-telegram-bot==13.7\n"
      ],
      "metadata": {
        "colab": {
          "base_uri": "https://localhost:8080/"
        },
        "id": "9dRTetPnkY22",
        "outputId": "2a5b333c-a7aa-482e-db43-59bd0c2c57e4"
      },
      "execution_count": 11,
      "outputs": [
        {
          "output_type": "stream",
          "name": "stdout",
          "text": [
            "Requirement already satisfied: python-telegram-bot==13.7 in /usr/local/lib/python3.10/dist-packages (13.7)\n",
            "Requirement already satisfied: certifi in /usr/local/lib/python3.10/dist-packages (from python-telegram-bot==13.7) (2024.2.2)\n",
            "Requirement already satisfied: tornado>=6.1 in /usr/local/lib/python3.10/dist-packages (from python-telegram-bot==13.7) (6.3.3)\n",
            "Requirement already satisfied: APScheduler==3.6.3 in /usr/local/lib/python3.10/dist-packages (from python-telegram-bot==13.7) (3.6.3)\n",
            "Requirement already satisfied: pytz>=2018.6 in /usr/local/lib/python3.10/dist-packages (from python-telegram-bot==13.7) (2023.4)\n",
            "Requirement already satisfied: cachetools==4.2.2 in /usr/local/lib/python3.10/dist-packages (from python-telegram-bot==13.7) (4.2.2)\n",
            "Requirement already satisfied: setuptools>=0.7 in /usr/local/lib/python3.10/dist-packages (from APScheduler==3.6.3->python-telegram-bot==13.7) (67.7.2)\n",
            "Requirement already satisfied: six>=1.4.0 in /usr/local/lib/python3.10/dist-packages (from APScheduler==3.6.3->python-telegram-bot==13.7) (1.16.0)\n",
            "Requirement already satisfied: tzlocal>=1.2 in /usr/local/lib/python3.10/dist-packages (from APScheduler==3.6.3->python-telegram-bot==13.7) (5.2)\n"
          ]
        }
      ]
    },
    {
      "cell_type": "code",
      "source": [
        "from telegram import Update\n",
        "from telegram.ext import Updater, CommandHandler, MessageHandler, Filters, CallbackContext\n",
        "from neo4j import GraphDatabase\n",
        "\n",
        "import logging\n",
        "\n",
        "logging.basicConfig(format='%(asctime)s - %(name)s - %(levelname)s - %(message)s', level=logging.INFO)\n",
        "logger = logging.getLogger(__name__)\n",
        "\n",
        "# Neo4j database setup\n",
        "uri = \"neo4j+s://b0ea75e7.databases.neo4j.io\"\n",
        "user = \"neo4j\"\n",
        "password = \"_tTAwYdD3-E9y_xUdo-n0j48G2pVnZg5zJ9IfgMVIcg\"\n",
        "\n",
        "driver = GraphDatabase.driver(uri, auth=(user, password))\n",
        "\n",
        "def execute_query(query):\n",
        "    with driver.session() as session:\n",
        "        result = session.run(query)\n",
        "        return result\n",
        "\n",
        "def fetch_posts_by_keyword(keyword):\n",
        "    query = f\"\"\"\n",
        "    MATCH (p:Post)\n",
        "    WHERE toLower(p.message) CONTAINS '{keyword.lower()}'\n",
        "    RETURN p.post_id AS post_id, p.message AS message, p.created_time AS created_time\n",
        "    LIMIT 10\n",
        "    \"\"\"\n",
        "    result = execute_query(query)\n",
        "    return [record for record in result]\n",
        "\n",
        "# Define command handlers\n",
        "def start(update: Update, context: CallbackContext) -> None:\n",
        "    update.message.reply_text('Hi! I am Maya, your real estate assistant. Ask me about properties!')\n",
        "\n",
        "def help_command(update: Update, context: CallbackContext) -> None:\n",
        "    update.message.reply_text('You can ask me about real estate listings by typing keywords.')\n",
        "\n",
        "def handle_message(update: Update, context: CallbackContext) -> None:\n",
        "    keyword = update.message.text\n",
        "    results = fetch_posts_by_keyword(keyword)\n",
        "\n",
        "    if results:\n",
        "        response = \"Here are some posts I found:\\n\\n\"\n",
        "        for record in results:\n",
        "            response += f\"Post ID: {record['post_id']}\\nMessage: {record['message']}\\nCreated Time: {record['created_time']}\\n\\n\"\n",
        "    else:\n",
        "        response = \"Sorry, I couldn't find any posts matching your query.\"\n",
        "\n",
        "    update.message.reply_text(response)\n",
        "\n",
        "def main():\n",
        "    # Create the Updater and pass it your bot's token\n",
        "    updater = Updater(\"7101862704:AAEcYC388vwKtRWBTpYYx5Mt-L2TYJQEuJ0\")\n",
        "\n",
        "    # Get the dispatcher to register handlers\n",
        "    dispatcher = updater.dispatcher\n",
        "\n",
        "    # Register handlers\n",
        "    dispatcher.add_handler(CommandHandler(\"start\", start))\n",
        "    dispatcher.add_handler(CommandHandler(\"help\", help_command))\n",
        "    dispatcher.add_handler(MessageHandler(Filters.text & ~Filters.command, handle_message))\n",
        "\n",
        "    # Start the Bot\n",
        "    updater.start_polling()\n",
        "\n",
        "    # Run the bot until you press Ctrl-C or the process receives SIGINT, SIGTERM or SIGABRT\n",
        "    updater.idle()\n",
        "\n",
        "if __name__ == '__main__':\n",
        "    main()\n"
      ],
      "metadata": {
        "id": "3te5Cj0nhlK9"
      },
      "execution_count": null,
      "outputs": []
    }
  ]
}